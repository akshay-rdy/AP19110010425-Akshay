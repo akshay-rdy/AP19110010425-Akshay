{
 "cells": [
  {
   "cell_type": "markdown",
   "metadata": {},
   "source": [
    "# Task Day-9 (16-06-21)\n",
    "Write a program in module\n",
    "\n",
    "Ask the user to enter the data\n",
    "\n",
    "Check the data if it's camelcase print like(Thumbsup)emoji\n",
    "\n",
    "else convert the data into camelcase then speakout successfully converted your data into camelcase"
   ]
  },
  {
   "cell_type": "code",
   "execution_count": 25,
   "metadata": {},
   "outputs": [],
   "source": [
    "import emoji\n",
    "import camelcase\n",
    "import pyttsx3"
   ]
  },
  {
   "cell_type": "code",
   "execution_count": 33,
   "metadata": {},
   "outputs": [],
   "source": [
    "def info(data):\n",
    "    x=camelcase.CamelCase()\n",
    "    if data==x.hump(data):\n",
    "        return emoji.emojize(\"The sentence is in camel case :thumbsup:\", use_aliases = True)\n",
    "    else:\n",
    "        spk = pyttsx3.init()\n",
    "        spk.say(\"Successfully converted your data into camelcase\")\n",
    "        spk.runAndWait()\n",
    "        return \"The sentence in camel case:\", x.hump(data)"
   ]
  },
  {
   "cell_type": "markdown",
   "metadata": {},
   "source": [
    "Test Case-1 : Data in Camelcase"
   ]
  },
  {
   "cell_type": "code",
   "execution_count": 34,
   "metadata": {},
   "outputs": [
    {
     "name": "stdout",
     "output_type": "stream",
     "text": [
      "Enter your data: Akshay\n",
      "The sentence is in camel case 👍\n"
     ]
    }
   ],
   "source": [
    "data = input(\"Enter your data: \")\n",
    "print(info(data))"
   ]
  },
  {
   "cell_type": "markdown",
   "metadata": {},
   "source": [
    "Test Case-2 : Data not in Camelcase"
   ]
  },
  {
   "cell_type": "code",
   "execution_count": 35,
   "metadata": {},
   "outputs": [
    {
     "name": "stdout",
     "output_type": "stream",
     "text": [
      "Enter your data: akshay\n",
      "('The sentence in camel case:', 'Akshay')\n"
     ]
    }
   ],
   "source": [
    "data = input(\"Enter your data: \")\n",
    "print(info(data))"
   ]
  },
  {
   "cell_type": "code",
   "execution_count": null,
   "metadata": {},
   "outputs": [],
   "source": []
  }
 ],
 "metadata": {
  "kernelspec": {
   "display_name": "Python 3",
   "language": "python",
   "name": "python3"
  }
 },
 "nbformat": 4,
 "nbformat_minor": 2
}
